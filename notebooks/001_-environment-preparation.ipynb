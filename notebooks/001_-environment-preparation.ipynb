{
 "cells": [
  {
   "cell_type": "markdown",
   "metadata": {
    "application/vnd.databricks.v1+cell": {
     "cellMetadata": {},
     "inputWidgets": {},
     "nuid": "369b1b29-bd33-4f8f-bbaa-d267645770fd",
     "showTitle": false,
     "tableResultSettingsMap": {},
     "title": ""
    }
   },
   "source": [
    "### (database/schema) catalogo.schema\n",
    "### (volume) catalogo.schema.volume\n",
    "\n",
    "Criando volumes e schemas/databases"
   ]
  },
  {
   "cell_type": "code",
   "execution_count": 0,
   "metadata": {
    "application/vnd.databricks.v1+cell": {
     "cellMetadata": {
      "byteLimit": 2048000,
      "implicitDf": true,
      "rowLimit": 10000
     },
     "inputWidgets": {},
     "nuid": "f74f9513-75a2-4710-b9cb-94ad28126b45",
     "showTitle": false,
     "tableResultSettingsMap": {},
     "title": ""
    }
   },
   "outputs": [],
   "source": [
    "%sql\n",
    "\n",
    "CREATE SCHEMA IF NOT EXISTS workspace.landing\n",
    "COMMENT 'Schema/Database para dados bronze (delta)';\n",
    "\n",
    "CREATE VOLUME IF NOT EXISTS workspace.landing.dados\n",
    "COMMENT 'Volume para dados brutos criados no schema/database landing';\n",
    "\n",
    "CREATE SCHEMA IF NOT EXISTS workspace.bronze\n",
    "COMMENT 'Schema/Database para dados bronze (delta)';\n",
    "\n",
    "CREATE SCHEMA IF NOT EXISTS workspace.silver\n",
    "COMMENT 'Schema/Database para dados silver (delta)';\n",
    "\n",
    "CREATE SCHEMA IF NOT EXISTS workspace.gold\n",
    "COMMENT 'Schema/Database para dados gold (delta) - modelagem dimensional';"
   ]
  }
 ],
 "metadata": {
  "application/vnd.databricks.v1+notebook": {
   "computePreferences": null,
   "dashboards": [],
   "environmentMetadata": {
    "base_environment": "",
    "environment_version": "3"
   },
   "inputWidgetPreferences": null,
   "language": "python",
   "notebookMetadata": {
    "mostRecentlyExecutedCommandWithImplicitDF": {
     "commandId": 491250821563263,
     "dataframes": [
      "_sqldf"
     ]
    },
    "pythonIndentUnit": 4
   },
   "notebookName": "001_-environment-preparation",
   "widgets": {}
  },
  "language_info": {
   "name": "python"
  }
 },
 "nbformat": 4,
 "nbformat_minor": 0
}
