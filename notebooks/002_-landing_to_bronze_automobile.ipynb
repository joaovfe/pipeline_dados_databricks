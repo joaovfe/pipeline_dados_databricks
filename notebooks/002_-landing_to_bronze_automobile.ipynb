{
 "cells": [
  {
   "cell_type": "code",
   "execution_count": 0,
   "metadata": {
    "application/vnd.databricks.v1+cell": {
     "cellMetadata": {
      "byteLimit": 2048000,
      "rowLimit": 10000
     },
     "inputWidgets": {},
     "nuid": "36cace6c-3ed7-4a63-9c0a-f45dc86c8677",
     "showTitle": false,
     "tableResultSettingsMap": {},
     "title": ""
    }
   },
   "outputs": [],
   "source": [
    "from pyspark.sql.functions import current_timestamp, lit\n",
    "\n",
    "caminho_landing = '/Volumes/workspace/landing/dados'\n",
    "caminho_bronze = \"bronze\"\n",
    "\n",
    "df_auto = spark.read.option(\"header\", \"true\").option(\"inferSchema\", \"true\").csv(f\"{caminho_landing}/Automobile.csv\")\n",
    "display(df_auto)\n",
    "\n",
    "df_auto = df_auto.withColumn(\"data_hora_bronze\", current_timestamp()) \\\n",
    "                 .withColumn(\"nome_arquivo\", lit(\"Automobile.csv\"))\n",
    "\n",
    "df_auto.write.format(\"delta\").mode(\"overwrite\").saveAsTable(f\"{caminho_bronze}.automobile\")\n",
    "\n",
    "df_motor = df_auto.select(\"name\", \"cylinders\", \"displacement\", \"horsepower\") \\\n",
    "                  .withColumn(\"data_hora_bronze\", current_timestamp()) \\\n",
    "                  .withColumn(\"nome_arquivo\", lit(\"automobile.csv\"))\n",
    "df_motor.write.format(\"delta\").mode(\"overwrite\").saveAsTable(f\"{caminho_bronze}.motor\")\n",
    "\n",
    "df_dim = df_auto.select(\"name\", \"weight\", \"acceleration\") \\\n",
    "                .withColumn(\"data_hora_bronze\", current_timestamp()) \\\n",
    "                .withColumn(\"nome_arquivo\", lit(\"automobile.csv\"))\n",
    "df_dim.write.format(\"delta\").mode(\"overwrite\").saveAsTable(f\"{caminho_bronze}.dimensoes\")\n",
    "\n",
    "df_origin = df_auto.select(\"name\", \"origin\") \\\n",
    "                   .withColumn(\"data_hora_bronze\", current_timestamp()) \\\n",
    "                   .withColumn(\"nome_arquivo\", lit(\"automobile.csv\"))\n",
    "df_origin.write.format(\"delta\").mode(\"overwrite\").saveAsTable(f\"{caminho_bronze}.origem\")\n",
    "\n",
    "df_year = df_auto.select(\"name\", \"model_year\") \\\n",
    "                 .withColumn(\"data_hora_bronze\", current_timestamp()) \\\n",
    "                 .withColumn(\"nome_arquivo\", lit(\"automobile.csv\"))\n",
    "df_year.write.format(\"delta\").mode(\"overwrite\").saveAsTable(f\"{caminho_bronze}.ano_modelo\")\n"
   ]
  },
  {
   "cell_type": "code",
   "execution_count": 0,
   "metadata": {
    "application/vnd.databricks.v1+cell": {
     "cellMetadata": {
      "byteLimit": 2048000,
      "rowLimit": 10000
     },
     "inputWidgets": {},
     "nuid": "86a9058b-1a05-443e-b8c7-55b29d2721ff",
     "showTitle": false,
     "tableResultSettingsMap": {},
     "title": ""
    }
   },
   "outputs": [],
   "source": [
    "spark.sql(\"SELECT * FROM bronze.automobile LIMIT 5\").show()\n",
    "spark.sql(\"SELECT * FROM bronze.motor LIMIT 5\").show()\n",
    "spark.sql(\"SELECT * FROM bronze.dimensoes LIMIT 5\").show()\n",
    "spark.sql(\"SELECT * FROM bronze.origem LIMIT 5\").show()\n",
    "spark.sql(\"SELECT * FROM bronze.ano_modelo LIMIT 5\").show()"
   ]
  }
 ],
 "metadata": {
  "application/vnd.databricks.v1+notebook": {
   "computePreferences": null,
   "dashboards": [],
   "environmentMetadata": {
    "base_environment": "",
    "environment_version": "4"
   },
   "inputWidgetPreferences": null,
   "language": "python",
   "notebookMetadata": {
    "pythonIndentUnit": 4
   },
   "notebookName": "002_-landing_to_bronze_automobile",
   "widgets": {}
  },
  "language_info": {
   "name": "python"
  }
 },
 "nbformat": 4,
 "nbformat_minor": 0
}
