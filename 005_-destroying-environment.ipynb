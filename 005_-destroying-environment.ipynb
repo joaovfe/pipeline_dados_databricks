{
 "cells": [
  {
   "cell_type": "code",
   "execution_count": 0,
   "metadata": {
    "application/vnd.databricks.v1+cell": {
     "cellMetadata": {
      "byteLimit": 2048000,
      "implicitDf": true,
      "rowLimit": 10000
     },
     "inputWidgets": {},
     "nuid": "4c5f8847-11bf-4432-91ae-82858fbfeed2",
     "showTitle": false,
     "tableResultSettingsMap": {},
     "title": ""
    }
   },
   "outputs": [],
   "source": [
    "%sql\n",
    "\n",
    "-- Apagar todas as tabelas da camada bronze\n",
    "DROP SCHEMA IF EXISTS workspace.bronze CASCADE;\n",
    "\n",
    "-- Apagar todas as tabelas da camada silver\n",
    "DROP SCHEMA IF EXISTS workspace.silver CASCADE;\n",
    "\n",
    "-- Apagar todas as tabelas da camada gold\n",
    "DROP SCHEMA IF EXISTS workspace.gold CASCADE;\n"
   ]
  }
 ],
 "metadata": {
  "application/vnd.databricks.v1+notebook": {
   "computePreferences": null,
   "dashboards": [],
   "environmentMetadata": {
    "base_environment": "",
    "environment_version": "4"
   },
   "inputWidgetPreferences": null,
   "language": "python",
   "notebookMetadata": {
    "mostRecentlyExecutedCommandWithImplicitDF": {
     "commandId": 7700356119776535,
     "dataframes": [
      "_sqldf"
     ]
    },
    "pythonIndentUnit": 4
   },
   "notebookName": "005_-destroying-environment",
   "widgets": {}
  },
  "language_info": {
   "name": "python"
  }
 },
 "nbformat": 4,
 "nbformat_minor": 0
}
