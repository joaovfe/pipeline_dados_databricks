{
 "cells": [
  {
   "cell_type": "code",
   "execution_count": 0,
   "metadata": {
    "application/vnd.databricks.v1+cell": {
     "cellMetadata": {
      "byteLimit": 2048000,
      "rowLimit": 10000
     },
     "inputWidgets": {},
     "nuid": "9eb15059-dc27-472d-aa62-3c0dd3ed4677",
     "showTitle": false,
     "tableResultSettingsMap": {},
     "title": ""
    }
   },
   "outputs": [],
   "source": [
    "df_automobile = spark.read.format(\"delta\").table(\"bronze.automobile\")\n",
    "df_motor      = spark.read.format(\"delta\").table(\"bronze.motor\")\n",
    "df_dimensoes  = spark.read.format(\"delta\").table(\"bronze.dimensoes\")\n",
    "df_origin     = spark.read.format(\"delta\").table(\"bronze.origem\")\n",
    "df_ano_modelo = spark.read.format(\"delta\").table(\"bronze.ano_modelo\")\n"
   ]
  },
  {
   "cell_type": "code",
   "execution_count": 0,
   "metadata": {
    "application/vnd.databricks.v1+cell": {
     "cellMetadata": {
      "byteLimit": 2048000,
      "rowLimit": 10000
     },
     "inputWidgets": {},
     "nuid": "8a579539-0529-4e0a-a324-e42f2851822b",
     "showTitle": false,
     "tableResultSettingsMap": {},
     "title": ""
    }
   },
   "outputs": [],
   "source": [
    "from pyspark.sql.functions import current_timestamp, lit\n",
    "\n",
    "df_automobile = df_automobile.withColumn(\"data_hora_silver\", current_timestamp()).withColumn(\"nome_tabela\", lit(\"automobile\"))\n",
    "df_motor      = df_motor.withColumn(\"data_hora_silver\", current_timestamp()).withColumn(\"nome_tabela\", lit(\"motor\"))\n",
    "df_dimensoes  = df_dimensoes.withColumn(\"data_hora_silver\", current_timestamp()).withColumn(\"nome_tabela\", lit(\"dimensoes\"))\n",
    "df_origin     = df_origin.withColumn(\"data_hora_silver\", current_timestamp()).withColumn(\"nome_tabela\", lit(\"origem\"))\n",
    "df_ano_modelo = df_ano_modelo.withColumn(\"data_hora_silver\", current_timestamp()).withColumn(\"nome_tabela\", lit(\"ano_modelo\"))\n"
   ]
  },
  {
   "cell_type": "code",
   "execution_count": 0,
   "metadata": {
    "application/vnd.databricks.v1+cell": {
     "cellMetadata": {
      "byteLimit": 2048000,
      "rowLimit": 10000
     },
     "inputWidgets": {},
     "nuid": "5de714e5-1f3c-4f90-92c3-3b4713207bba",
     "showTitle": false,
     "tableResultSettingsMap": {},
     "title": ""
    }
   },
   "outputs": [],
   "source": [
    "from pyspark.sql import functions as F\n",
    "\n",
    "# ---------- Helpers ----------\n",
    "def _apply_name_rules(colname: str) -> str:\n",
    "    n = colname.upper()\n",
    "    n = n.replace(\"CD_\", \"CODIGO_\")\n",
    "    n = n.replace(\"VL_\", \"VALOR_\")\n",
    "    n = n.replace(\"DT_\", \"DATA_\")\n",
    "    n = n.replace(\"NM_\", \"NOME_\")\n",
    "    n = n.replace(\"DS_\", \"DESCRICAO_\")\n",
    "    n = n.replace(\"NR_\", \"NUMERO_\")\n",
    "    n = n.replace(\"_UF\", \"_UNIDADE_FEDERATIVA\")\n",
    "    return n\n",
    "\n",
    "def _safe_drop(df, cols):\n",
    "    existing = set(df.columns)\n",
    "    to_drop = [c for c in cols if c in existing]\n",
    "    return df.drop(*to_drop) if to_drop else df\n",
    "\n",
    "# ---------- Core ----------\n",
    "def renomear_colunas_managed(src_fqn: str, dest_fqn: str = None):\n",
    "    dest_fqn = dest_fqn or src_fqn\n",
    "    df = spark.read.format(\"delta\").table(src_fqn)\n",
    "    new_cols = [_apply_name_rules(c) for c in df.columns]\n",
    "    df = df.toDF(*new_cols)\n",
    "    df = _safe_drop(df, [\"DATA_HORA_BRONZE\", \"NOME_ARQUIVO\"])\n",
    "    df = (df\n",
    "          .withColumn(\"NOME_ARQUIVO_BRONZE\", F.lit(src_fqn))\n",
    "          .withColumn(\"DATA_ARQUIVO_SILVER\", F.current_timestamp())\n",
    "         )\n",
    "    (df.write\n",
    "       .format(\"delta\")\n",
    "       .mode(\"overwrite\")\n",
    "       .option(\"mergeSchema\", \"true\")\n",
    "       .saveAsTable(dest_fqn))\n",
    "    return dest_fqn\n"
   ]
  },
  {
   "cell_type": "code",
   "execution_count": 0,
   "metadata": {
    "application/vnd.databricks.v1+cell": {
     "cellMetadata": {
      "byteLimit": 2048000,
      "rowLimit": 10000
     },
     "inputWidgets": {},
     "nuid": "ba01836d-8bb2-4ac6-a8bf-c7aefdee9a92",
     "showTitle": false,
     "tableResultSettingsMap": {},
     "title": ""
    }
   },
   "outputs": [],
   "source": [
    "renomear_colunas_managed(\"bronze.automobile\", \"silver.automobile\")\n",
    "renomear_colunas_managed(\"bronze.motor\", \"silver.motor\")\n",
    "renomear_colunas_managed(\"bronze.dimensoes\", \"silver.dimensoes\")\n",
    "renomear_colunas_managed(\"bronze.origem\", \"silver.origem\")\n",
    "renomear_colunas_managed(\"bronze.ano_modelo\", \"silver.ano_modelo\")\n"
   ]
  }
 ],
 "metadata": {
  "application/vnd.databricks.v1+notebook": {
   "computePreferences": null,
   "dashboards": [],
   "environmentMetadata": {
    "base_environment": "",
    "environment_version": "4"
   },
   "inputWidgetPreferences": null,
   "language": "python",
   "notebookMetadata": {
    "pythonIndentUnit": 4
   },
   "notebookName": "003_-bronze_to_silver_automobile",
   "widgets": {}
  },
  "language_info": {
   "name": "python"
  }
 },
 "nbformat": 4,
 "nbformat_minor": 0
}
